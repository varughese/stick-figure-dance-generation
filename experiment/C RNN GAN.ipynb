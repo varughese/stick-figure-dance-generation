{
 "cells": [
  {
   "cell_type": "markdown",
   "metadata": {},
   "source": [
    "# C-RNN-GAN\n",
    "http://mogren.one/publications/2016/c-rnn-gan/mogren2016crnngan.pdf"
   ]
  },
  {
   "cell_type": "code",
   "execution_count": 1,
   "metadata": {},
   "outputs": [],
   "source": [
    "import torch\n",
    "import torch.nn as nn\n",
    "import torch.nn.functional as F"
   ]
  },
  {
   "cell_type": "code",
   "execution_count": 4,
   "metadata": {},
   "outputs": [
    {
     "name": "stdout",
     "output_type": "stream",
     "text": [
      "GPU is available\n"
     ]
    }
   ],
   "source": [
    "# torch.cuda.is_available() checks and returns a Boolean True if a GPU is available, else it'll return False\n",
    "is_cuda = torch.cuda.is_available()\n",
    "\n",
    "# If we have a GPU available, we'll set our device to GPU. We'll use this device variable later in our code.\n",
    "if is_cuda:\n",
    "    device = torch.device(\"cuda\")\n",
    "    print(\"GPU is available\")\n",
    "else:\n",
    "    device = torch.device(\"cpu\")\n",
    "    print(\"GPU not available, CPU used\")"
   ]
  },
  {
   "cell_type": "code",
   "execution_count": 29,
   "metadata": {},
   "outputs": [],
   "source": [
    "class Generator(nn.Module):\n",
    "    def __init__(self, features, hidden_size):\n",
    "        super(Generator, self).__init__()\n",
    "        \n",
    "        self.hidden_size = hidden_size\n",
    "        self.features = features\n",
    "        \n",
    "        self.fc1 = nn.Linear(in_features=(features*2), out_features=hidden_size)\n",
    "        self.lstm1 = nn.LSTMCell(input_size=hidden_size, hidden_size=hidden_size)\n",
    "        self.dropout = nn.Dropout(p=0.6)\n",
    "        self.lstm2 = nn.LSTMCell(input_size=hidden_size, hidden_size=hidden_size)\n",
    "        self.fc2 = nn.Linear(in_features=hidden_size, out_features=features)\n",
    "        \n",
    "    def forward(self, z, states):\n",
    "        z = z.to(device)\n",
    "        batch_size, seq_len, num_feats = z.shape\n",
    "        z = torch.split(z, 1, dim=1)\n",
    "        z = [z_step.squeeze(dim=1) for z_step in z]\n",
    "        \n",
    "        prev_gen = torch.empty([batch_size, num_feats]).uniform_()\n",
    "        prev_gen = prev_gen.to(device)\n",
    "        \n",
    "        state1, state2 = states\n",
    "        gen_feats = []\n",
    "        for z_step in z:\n",
    "            concat_in = torch.cat((z_step, prev_gen), dim=-1)\n",
    "            out = F.relu(self.fc1(concat_in))\n",
    "            h1, c1 = self.lstm1(out, state1)\n",
    "            h1 = self.dropout(h1)\n",
    "            h2, c2 = self.lstm2(h1, state2)\n",
    "            prev_gen = self.fc2(h2)\n",
    "            gen_feats.append(prev_gen)\n",
    "            state1 = (h1, c1)\n",
    "            state2 = (h2, c2)\n",
    "        \n",
    "        # seq_len * (batch_size * num_feats) -> (batch_size * seq_len * num_feats)\n",
    "        gen_feats = torch.stack(gen_feats, dim=1)\n",
    "        \n",
    "        states = (state1, state2)\n",
    "        return gen_feats, states\n",
    "\n",
    "    def init_hidden(self, batch_size):\n",
    "        weight = next(self.parameters()).data\n",
    "        \n",
    "        hidden = ( (weight.new(batch_size, self.hidden_size).zero_().to(device),\n",
    "                   weight.new(batch_size, self.hidden_size).zero_().to(device)),\n",
    "                   (weight.new(batch_size, self.hidden_size).zero_().to(device),\n",
    "                   weight.new(batch_size, self.hidden_size).zero_().to(device)) )\n",
    "\n",
    "        return hidden"
   ]
  },
  {
   "cell_type": "code",
   "execution_count": 36,
   "metadata": {},
   "outputs": [],
   "source": [
    "gmodel = Generator(13, 100).to(device)"
   ]
  },
  {
   "cell_type": "code",
   "execution_count": 37,
   "metadata": {},
   "outputs": [],
   "source": [
    "BATCH_SIZE = 1\n",
    "g_states = gmodel.init_hidden(BATCH_SIZE)"
   ]
  },
  {
   "cell_type": "code",
   "execution_count": 38,
   "metadata": {},
   "outputs": [
    {
     "ename": "AttributeError",
     "evalue": "'tuple' object has no attribute 'device'",
     "output_type": "error",
     "traceback": [
      "\u001b[0;31m---------------------------------------------------------------------------\u001b[0m",
      "\u001b[0;31mAttributeError\u001b[0m                            Traceback (most recent call last)",
      "\u001b[0;32m<ipython-input-38-f443fe855e5c>\u001b[0m in \u001b[0;36m<module>\u001b[0;34m\u001b[0m\n\u001b[0;32m----> 1\u001b[0;31m \u001b[0mg_states\u001b[0m\u001b[0;34m.\u001b[0m\u001b[0mdevice\u001b[0m\u001b[0;34m(\u001b[0m\u001b[0;34m)\u001b[0m\u001b[0;34m\u001b[0m\u001b[0m\n\u001b[0m",
      "\u001b[0;31mAttributeError\u001b[0m: 'tuple' object has no attribute 'device'"
     ]
    }
   ],
   "source": [
    "g_states.device()"
   ]
  },
  {
   "cell_type": "code",
   "execution_count": 39,
   "metadata": {},
   "outputs": [],
   "source": [
    "input_seq = torch.arange(13. * 4.).reshape(1, 4, 13).to(device)"
   ]
  },
  {
   "cell_type": "code",
   "execution_count": 41,
   "metadata": {},
   "outputs": [
    {
     "data": {
      "text/plain": [
       "(tensor([[[-0.0166,  0.0489, -0.0056,  0.0335, -0.1198,  0.0685, -0.0229,\n",
       "           -0.0305,  0.0163,  0.0851,  0.0111, -0.0066, -0.0310],\n",
       "          [-0.0060,  0.0401,  0.0047,  0.0394, -0.1385,  0.0625, -0.0261,\n",
       "           -0.0521,  0.0299,  0.0844,  0.0046, -0.0241, -0.0734],\n",
       "          [-0.0021,  0.0252,  0.0175,  0.0513, -0.1370,  0.0592, -0.0282,\n",
       "           -0.0730,  0.0455,  0.0853,  0.0048, -0.0292, -0.0995],\n",
       "          [-0.0037,  0.0073,  0.0270,  0.0623, -0.1307,  0.0552, -0.0266,\n",
       "           -0.0876,  0.0602,  0.0841,  0.0120, -0.0269, -0.1118]]],\n",
       "        device='cuda:0', grad_fn=<StackBackward>),\n",
       " ((tensor([[-8.4788e-03,  2.1228e-04,  3.9706e-02,  6.0995e-01,  7.6642e-01,\n",
       "            -7.5935e-01,  2.1733e-01, -1.6564e-01,  7.1967e-01, -7.9875e-02,\n",
       "            -1.8251e-06, -1.5560e-02, -2.5932e-03, -1.6780e-09,  5.9981e-08,\n",
       "            -6.5191e-01,  8.6587e-06, -1.9787e-05, -3.7394e-11, -4.6595e-02,\n",
       "             6.8628e-06, -9.5037e-01,  7.3292e-02,  5.5596e-10, -4.9211e-05,\n",
       "            -9.0748e-02,  3.7925e-04, -1.2475e-03,  4.4392e-03,  1.1000e-02,\n",
       "             8.1632e-04,  1.3096e-02,  3.4182e-03, -3.3644e-04, -1.5985e-05,\n",
       "            -9.0389e-03,  8.1232e-02, -2.2463e-01,  6.4233e-03, -2.1619e-02,\n",
       "             1.7887e-03, -7.4638e-04, -4.3180e-01, -9.7165e-01,  2.3216e-04,\n",
       "             2.8703e-02,  2.8338e-01, -1.4094e-04, -2.0783e-04,  7.5587e-01,\n",
       "             5.4321e-01, -2.3550e-03, -3.0182e-01, -4.5555e-06,  3.3140e-01,\n",
       "            -1.5287e-04, -8.4257e-03,  2.3748e-02, -9.2532e-01,  8.7061e-01,\n",
       "             7.0965e-01, -1.7576e-04, -1.6465e-01,  1.2717e-04,  6.3482e-05,\n",
       "            -7.1376e-07, -7.2890e-05, -6.5284e-03, -5.5842e-01, -3.0937e-01,\n",
       "            -7.7558e-02,  6.1855e-04, -6.4574e-01, -4.4691e-01, -8.2307e-01,\n",
       "             6.8521e-01,  7.5074e-01,  2.2918e-01, -1.9211e-05, -2.7956e-04,\n",
       "             1.0582e-01,  3.8808e-02,  5.0403e-01, -6.9817e-02,  9.9251e-01,\n",
       "             5.6102e-02, -9.0831e-01, -6.7347e-02, -1.9779e-02,  1.6263e-01,\n",
       "             6.8060e-01, -4.2580e-05,  9.9263e-01,  6.3148e-03,  9.5424e-02,\n",
       "             1.1637e-02,  9.2382e-02, -1.5564e-02, -2.9971e-01,  8.1995e-01]],\n",
       "          device='cuda:0', grad_fn=<ThnnFusedLstmCellBackward>),\n",
       "   tensor([[-2.8065e+00,  1.0324e+00,  9.7044e-02,  1.5228e+00,  1.0261e+00,\n",
       "            -9.9468e-01,  2.2220e-01, -1.7965e-01,  9.1834e-01, -2.0053e+00,\n",
       "            -1.9604e-03, -1.5563e-02, -1.0455e+00, -4.2995e-04,  2.4541e-05,\n",
       "            -7.7861e-01,  1.6410e-05, -7.3450e-01, -5.8628e-03, -4.7686e-02,\n",
       "             9.9900e-01, -1.8358e+00,  1.2837e+00,  7.6599e-05, -6.5467e-02,\n",
       "            -7.7712e-01,  3.7926e-04, -1.3115e-03,  4.4785e-03,  1.5549e-01,\n",
       "             2.3533e+00,  1.1168e+00,  3.1316e+00, -2.3738e-03, -1.3299e-01,\n",
       "            -9.0406e-03,  8.2195e-02, -2.2880e-01,  1.9336e+00, -8.5610e-01,\n",
       "             1.8441e-03, -6.2124e-01, -4.6211e-01, -2.1215e+00,  2.3515e-04,\n",
       "             5.4565e-02,  1.0797e+00, -1.4099e-04, -9.9708e-01,  9.8874e-01,\n",
       "             1.2465e+00, -1.0141e+00, -1.2684e+00, -3.1453e-02,  3.9520e-01,\n",
       "            -3.0352e-04, -8.4375e-03,  2.0901e+00, -2.0332e+00,  1.3383e+00,\n",
       "             9.9149e-01, -2.2674e-04, -1.6692e-01,  4.0909e-01,  2.2077e-02,\n",
       "            -2.7566e+00, -1.8130e+00, -7.0198e-02, -2.0469e+00, -3.2146e-01,\n",
       "            -8.0299e-02,  4.9411e-02, -1.0626e+00, -4.8104e-01, -1.1663e+00,\n",
       "             8.3886e-01,  9.7466e-01,  3.5193e-01, -1.9602e-02, -5.3820e-04,\n",
       "             1.1636e-01,  4.0424e-02,  9.6459e-01, -2.2187e-01,  2.7923e+00,\n",
       "             9.6440e-01, -1.5248e+00, -5.0008e-01, -2.1695e-02,  1.6444e-01,\n",
       "             8.4011e-01, -2.7665e-01,  2.8059e+00,  9.3052e-02,  9.5717e-02,\n",
       "             7.4788e-01,  2.5567e-01, -3.0543e+00, -6.6366e-01,  2.6941e+00]],\n",
       "          device='cuda:0', grad_fn=<ThnnFusedLstmCellBackward>)),\n",
       "  (tensor([[ 0.1854, -0.1056,  0.0483, -0.0355,  0.1582,  0.0977, -0.0677,  0.0165,\n",
       "             0.1371, -0.0142, -0.0571, -0.0172, -0.0650, -0.0612, -0.0611,  0.0756,\n",
       "            -0.0196, -0.2271,  0.0231, -0.0005,  0.0743,  0.1272, -0.0706, -0.0946,\n",
       "            -0.1036,  0.2171,  0.1129,  0.1006, -0.2427, -0.0227, -0.1016,  0.1681,\n",
       "             0.0774,  0.0606,  0.0467, -0.1209,  0.0166,  0.1839,  0.0212, -0.0054,\n",
       "            -0.1725, -0.0919,  0.2485,  0.0388,  0.0119, -0.0852,  0.0505,  0.0909,\n",
       "            -0.0446,  0.0575,  0.1196,  0.0290,  0.1395, -0.0909, -0.0348, -0.0204,\n",
       "             0.1146,  0.1709,  0.0378,  0.1100,  0.0995, -0.0494,  0.0199, -0.0038,\n",
       "            -0.1170,  0.2003,  0.0944, -0.0742, -0.0727, -0.1030, -0.0173, -0.2396,\n",
       "             0.0302,  0.0102,  0.1685,  0.1048, -0.0241, -0.0995,  0.0941, -0.0597,\n",
       "             0.0357, -0.0665,  0.1027,  0.2500,  0.0703,  0.0372, -0.0627,  0.0260,\n",
       "            -0.1360,  0.1705,  0.0273,  0.0812, -0.0167,  0.1042, -0.0283, -0.0047,\n",
       "             0.0285, -0.0887, -0.0631,  0.1065]], device='cuda:0',\n",
       "          grad_fn=<ThnnFusedLstmCellBackward>),\n",
       "   tensor([[ 0.3253, -0.2059,  0.0964, -0.0611,  0.3207,  0.2138, -0.1212,  0.0431,\n",
       "             0.2454, -0.0322, -0.1179, -0.0323, -0.1280, -0.1271, -0.1191,  0.1232,\n",
       "            -0.0394, -0.5471,  0.0394, -0.0011,  0.1730,  0.2022, -0.1533, -0.1924,\n",
       "            -0.1925,  0.5474,  0.2100,  0.2203, -0.4844, -0.0432, -0.1960,  0.3220,\n",
       "             0.1440,  0.1260,  0.0896, -0.2150,  0.0349,  0.4179,  0.0439, -0.0123,\n",
       "            -0.4479, -0.1485,  0.4869,  0.0779,  0.0288, -0.2021,  0.0947,  0.2056,\n",
       "            -0.0916,  0.1175,  0.3213,  0.0476,  0.2607, -0.1664, -0.0704, -0.0401,\n",
       "             0.2510,  0.3323,  0.0671,  0.2263,  0.2024, -0.1161,  0.0422, -0.0077,\n",
       "            -0.2578,  0.3461,  0.1732, -0.1470, -0.1433, -0.2071, -0.0295, -0.4662,\n",
       "             0.0639,  0.0226,  0.3643,  0.1979, -0.0459, -0.1882,  0.1844, -0.1171,\n",
       "             0.0852, -0.1321,  0.2246,  0.5398,  0.1563,  0.0681, -0.1312,  0.0546,\n",
       "            -0.2806,  0.3622,  0.0435,  0.1632, -0.0375,  0.1924, -0.0553, -0.0116,\n",
       "             0.0602, -0.1894, -0.1443,  0.2165]], device='cuda:0',\n",
       "          grad_fn=<ThnnFusedLstmCellBackward>))))"
      ]
     },
     "execution_count": 41,
     "metadata": {},
     "output_type": "execute_result"
    }
   ],
   "source": [
    "gmodel.eval()\n",
    "gmodel(input_seq, g_states)"
   ]
  },
  {
   "cell_type": "code",
   "execution_count": null,
   "metadata": {},
   "outputs": [],
   "source": []
  }
 ],
 "metadata": {
  "kernelspec": {
   "display_name": "Python 3",
   "language": "python",
   "name": "python3"
  },
  "language_info": {
   "codemirror_mode": {
    "name": "ipython",
    "version": 3
   },
   "file_extension": ".py",
   "mimetype": "text/x-python",
   "name": "python",
   "nbconvert_exporter": "python",
   "pygments_lexer": "ipython3",
   "version": "3.6.5"
  }
 },
 "nbformat": 4,
 "nbformat_minor": 4
}
