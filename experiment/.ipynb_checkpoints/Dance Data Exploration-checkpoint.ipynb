{
 "cells": [
  {
   "cell_type": "code",
   "execution_count": 63,
   "metadata": {},
   "outputs": [],
   "source": [
    "import os, pathlib, json\n",
    "import numpy as np\n",
    "from pathlib import Path"
   ]
  },
  {
   "cell_type": "code",
   "execution_count": 75,
   "metadata": {},
   "outputs": [],
   "source": [
    "ROOT_DIR = \"../densepose/txt/\"\n",
    "CATEGORIES = os.listdir(ROOT_DIR)\n",
    "FRAME_DESCRIPTOR_LENGTH = len(\"_1234.json\")\n",
    "\n",
    "index = {}"
   ]
  },
  {
   "cell_type": "code",
   "execution_count": 77,
   "metadata": {},
   "outputs": [],
   "source": [
    "filenames = os.listdir(DANCE_DIR)\n",
    "filenames.sort()"
   ]
  },
  {
   "cell_type": "code",
   "execution_count": 78,
   "metadata": {},
   "outputs": [],
   "source": [
    "def filename_to_id(filename):\n",
    "    return filename[0:-FRAME_DESCRIPTOR_LENGTH]"
   ]
  },
  {
   "cell_type": "code",
   "execution_count": 79,
   "metadata": {},
   "outputs": [],
   "source": [
    "def filename_to_frame_no(filename):\n",
    "    # lWfg9CNg-uE_123_FRAMENO.json\n",
    "    # Split on _ -> [lWfg9CNg-uE, 123, FRAMENO.json]\n",
    "    # Get last element, and then read convert FRAMENO to int\n",
    "    return int(filename.split(\"_\")[-1].split(\".\")[0])"
   ]
  },
  {
   "cell_type": "code",
   "execution_count": 84,
   "metadata": {},
   "outputs": [],
   "source": [
    "for category in CATEGORIES:\n",
    "    DANCE_DIR = \"{}{}/\".format(ROOT_DIR, category)\n",
    "    for filename in filenames:\n",
    "        if category not in index:\n",
    "            index[category] = {}\n",
    "        dance_id = filename_to_id(filename)\n",
    "        frame = filename_to_frame_no(filename)\n",
    "        if dance_id not in index[category]:\n",
    "            index[category][dance_id] = [1, -1]\n",
    "        index[category][dance_id][1] = frame"
   ]
  },
  {
   "cell_type": "code",
   "execution_count": 86,
   "metadata": {},
   "outputs": [],
   "source": [
    "output = []\n",
    "for category in index:\n",
    "    for dance_id in index[category]:\n",
    "        frames = index[category][dance_id][frame]\n",
    "        output.append([category, dance_id, frames])\n",
    "with open('dance-frame-index.json', 'w') as f:\n",
    "    json.dump(index, f)\n",
    "\n"
   ]
  }
 ],
 "metadata": {
  "kernelspec": {
   "display_name": "Python 3",
   "language": "python",
   "name": "python3"
  },
  "language_info": {
   "codemirror_mode": {
    "name": "ipython",
    "version": 3
   },
   "file_extension": ".py",
   "mimetype": "text/x-python",
   "name": "python",
   "nbconvert_exporter": "python",
   "pygments_lexer": "ipython3",
   "version": "3.6.5"
  }
 },
 "nbformat": 4,
 "nbformat_minor": 4
}
